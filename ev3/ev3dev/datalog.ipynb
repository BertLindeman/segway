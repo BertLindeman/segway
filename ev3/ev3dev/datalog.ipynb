{
 "cells": [
  {
   "cell_type": "code",
   "execution_count": null,
   "metadata": {},
   "outputs": [],
   "source": [
    "from plotly.offline import init_notebook_mode, iplot, plot\n",
    "from plotly import tools\n",
    "from plotly.graph_objs import Scatter, Figure, Layout\n",
    "init_notebook_mode(connected=True)\n",
    "from IPython.display import display, HTML\n",
    "\n",
    "import json\n",
    "with open('datalog.txt') as file:\n",
    "    datalog = json.load(file)\n",
    "    print('Data from: ' + datalog['timeStart'])\n",
    "    \n",
    "# Time signal\n",
    "time = datalog['tLoopStart']\n",
    "\n",
    "# Things we don't want to plot against time, like time itself\n",
    "exclude = ['tLoopStart','timeStart']\n",
    "\n",
    "# Get list of signals we do want to plot\n",
    "signal_names = [name for name in datalog if name not in exclude]\n",
    "\n",
    "# Make a list of scatter plots\n",
    "plots = [Scatter(x = time, y = datalog[name], name = name) for name in signal_names]\n",
    "\n",
    "# Create subplot grid\n",
    "fig = tools.make_subplots(rows=len(signal_names), cols=1, print_grid=False)\n",
    "\n",
    "# Add plots to the figure\n",
    "for i, data in enumerate(plots):\n",
    "    fig.append_trace(data, i+1, 1)\n",
    "\n",
    "#Show the plots        \n",
    "fig['layout'].update(height=1800)\n",
    "iplot(fig)\n"
   ]
  }
 ],
 "metadata": {
  "kernelspec": {
   "display_name": "Python 3",
   "language": "python",
   "name": "python3"
  },
  "language_info": {
   "codemirror_mode": {
    "name": "ipython",
    "version": 3
   },
   "file_extension": ".py",
   "mimetype": "text/x-python",
   "name": "python",
   "nbconvert_exporter": "python",
   "pygments_lexer": "ipython3",
   "version": "3.6.0"
  }
 },
 "nbformat": 4,
 "nbformat_minor": 2
}
